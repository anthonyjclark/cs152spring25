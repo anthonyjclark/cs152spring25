{
 "cells": [
  {
   "cell_type": "code",
   "execution_count": 1,
   "id": "30452494-66b7-4228-b52f-a790a5f7e7d6",
   "metadata": {},
   "outputs": [],
   "source": [
    "import torch\n",
    "import torchsummary"
   ]
  },
  {
   "cell_type": "code",
   "execution_count": 2,
   "id": "2d9f4158-bb07-4874-a548-c83f45a66d75",
   "metadata": {},
   "outputs": [],
   "source": [
    "x = torch.randn(3, 64, 64)"
   ]
  },
  {
   "cell_type": "code",
   "execution_count": 3,
   "id": "aba908a9-d879-498b-9adb-14d47449fa1e",
   "metadata": {},
   "outputs": [
    {
     "data": {
      "text/plain": [
       "12288"
      ]
     },
     "execution_count": 3,
     "metadata": {},
     "output_type": "execute_result"
    }
   ],
   "source": [
    "x.numel()"
   ]
  },
  {
   "cell_type": "code",
   "execution_count": 4,
   "id": "f4454748-f537-4b20-b4ba-17d42415c439",
   "metadata": {},
   "outputs": [],
   "source": [
    "num_hidden = 10\n",
    "num_output = 2"
   ]
  },
  {
   "cell_type": "code",
   "execution_count": 5,
   "id": "bb9dd75b-13db-4e28-9964-744e9315d372",
   "metadata": {},
   "outputs": [
    {
     "data": {
      "text/plain": [
       "122890"
      ]
     },
     "execution_count": 5,
     "metadata": {},
     "output_type": "execute_result"
    }
   ],
   "source": [
    "num_params_hidden = num_hidden * x.numel() + num_hidden\n",
    "num_params_hidden"
   ]
  },
  {
   "cell_type": "code",
   "execution_count": 6,
   "id": "68ed091c-a896-42e5-b207-598569c7ea93",
   "metadata": {},
   "outputs": [
    {
     "data": {
      "text/plain": [
       "22"
      ]
     },
     "execution_count": 6,
     "metadata": {},
     "output_type": "execute_result"
    }
   ],
   "source": [
    "num_params_out = num_output * num_hidden + num_output\n",
    "num_params_out"
   ]
  },
  {
   "cell_type": "code",
   "execution_count": 7,
   "id": "2359c86f-1c30-4e15-9643-b4042cae071b",
   "metadata": {},
   "outputs": [],
   "source": [
    "# Proper way to construct a NN\n",
    "class NN2(torch.nn.Module):\n",
    "    def __init__(self):\n",
    "        super().__init__()\n",
    "        self.hidden_layer = torch.nn.Linear(x.numel(), 10)\n",
    "        self.output_layer = torch.nn.Linear(10, 2)\n",
    "\n",
    "    def forward(self, x):\n",
    "        x = self.hidden_layer(x)\n",
    "        x = torch.nn.functional.sigmoid(x)\n",
    "        x = self.output_layer(x)\n",
    "        x = torch.nn.functional.sigmoid(x)\n",
    "        return x"
   ]
  },
  {
   "cell_type": "code",
   "execution_count": 8,
   "id": "b56b4186-d1c3-459a-8f69-588bfe03b7c8",
   "metadata": {},
   "outputs": [],
   "source": [
    "model = NN2()"
   ]
  },
  {
   "cell_type": "code",
   "execution_count": 9,
   "id": "b0a059fa-3e49-454b-8163-185fcc496aa9",
   "metadata": {},
   "outputs": [
    {
     "name": "stdout",
     "output_type": "stream",
     "text": [
      "torch.Size([10, 12288])\n",
      "torch.Size([10])\n",
      "torch.Size([2, 10])\n",
      "torch.Size([2])\n"
     ]
    }
   ],
   "source": [
    "# list(model.parameters())\n",
    "for param in model.parameters():\n",
    "    print(param.shape)"
   ]
  },
  {
   "cell_type": "code",
   "execution_count": 10,
   "id": "4dfff8be-222c-4848-8c15-110f1dcf062e",
   "metadata": {},
   "outputs": [
    {
     "name": "stdout",
     "output_type": "stream",
     "text": [
      "=================================================================\n",
      "Layer (type:depth-idx)                   Param #\n",
      "=================================================================\n",
      "├─Linear: 1-1                            122,890\n",
      "├─Linear: 1-2                            22\n",
      "=================================================================\n",
      "Total params: 122,912\n",
      "Trainable params: 122,912\n",
      "Non-trainable params: 0\n",
      "=================================================================\n"
     ]
    }
   ],
   "source": [
    "torchsummary.summary(model);"
   ]
  },
  {
   "cell_type": "code",
   "execution_count": 11,
   "id": "3251b18d-2696-4aa1-bc61-45106e1b0d93",
   "metadata": {},
   "outputs": [],
   "source": [
    "class Charles:\n",
    "    def __init__(self, name=None):\n",
    "        self.name = \"charles\" if name is None else name\n",
    "        # this.name = name == null ? \"charles\" : name; <-- c++ style"
   ]
  },
  {
   "cell_type": "code",
   "execution_count": 12,
   "id": "8f3ecf85-21f8-4009-9965-eb616028beaa",
   "metadata": {},
   "outputs": [],
   "source": [
    "class Max(Charles):\n",
    "    def __init__(self):\n",
    "        super().__init__()\n",
    "        self.shirt_color = \"black\""
   ]
  },
  {
   "cell_type": "code",
   "execution_count": 13,
   "id": "73681a6c-2dc2-466e-bc68-8544a81da336",
   "metadata": {},
   "outputs": [],
   "source": [
    "m = Max()"
   ]
  },
  {
   "cell_type": "code",
   "execution_count": 14,
   "id": "d51523aa-fbaa-4391-b8b4-31eaf813eafd",
   "metadata": {},
   "outputs": [
    {
     "data": {
      "text/plain": [
       "'black'"
      ]
     },
     "execution_count": 14,
     "metadata": {},
     "output_type": "execute_result"
    }
   ],
   "source": [
    "m.shirt_color"
   ]
  },
  {
   "cell_type": "code",
   "execution_count": 15,
   "id": "03d88dad-059f-4779-a9e6-79276974d661",
   "metadata": {},
   "outputs": [
    {
     "data": {
      "text/plain": [
       "'charles'"
      ]
     },
     "execution_count": 15,
     "metadata": {},
     "output_type": "execute_result"
    }
   ],
   "source": [
    "m.name"
   ]
  },
  {
   "cell_type": "code",
   "execution_count": 17,
   "id": "ae53e75d-0d41-43ef-8dad-272485b10840",
   "metadata": {},
   "outputs": [
    {
     "name": "stdout",
     "output_type": "stream",
     "text": [
      "=================================================================\n",
      "Layer (type:depth-idx)                   Param #\n",
      "=================================================================\n",
      "├─Linear: 1-1                            122,890\n",
      "├─Sigmoid: 1-2                           --\n",
      "├─Linear: 1-3                            22\n",
      "├─Sigmoid: 1-4                           --\n",
      "=================================================================\n",
      "Total params: 122,912\n",
      "Trainable params: 122,912\n",
      "Non-trainable params: 0\n",
      "=================================================================\n"
     ]
    }
   ],
   "source": [
    "# Less proper way to construct the same network\n",
    "model = torch.nn.Sequential(\n",
    "    torch.nn.Linear(x.numel(), 10),\n",
    "    torch.nn.Sigmoid(),\n",
    "    torch.nn.Linear(10, 2),\n",
    "    torch.nn.Sigmoid()\n",
    ")\n",
    "torchsummary.summary(model);"
   ]
  },
  {
   "cell_type": "code",
   "execution_count": null,
   "id": "65d738d0-0c00-447c-a8f7-5c930e6f3665",
   "metadata": {},
   "outputs": [],
   "source": []
  }
 ],
 "metadata": {
  "kernelspec": {
   "display_name": "Python3 (cs152)",
   "language": "python",
   "name": "cs152"
  },
  "language_info": {
   "codemirror_mode": {
    "name": "ipython",
    "version": 3
   },
   "file_extension": ".py",
   "mimetype": "text/x-python",
   "name": "python",
   "nbconvert_exporter": "python",
   "pygments_lexer": "ipython3",
   "version": "3.12.9"
  }
 },
 "nbformat": 4,
 "nbformat_minor": 5
}
