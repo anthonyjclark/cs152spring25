{
 "cells": [
  {
   "cell_type": "code",
   "execution_count": null,
   "id": "1ceb5b1b-1301-4555-ac0d-20cf571f8373",
   "metadata": {},
   "outputs": [],
   "source": [
    "import torch\n",
    "\n",
    "import matplotlib.pyplot as plt"
   ]
  },
  {
   "cell_type": "markdown",
   "id": "f8402a90-51f7-43e0-8ab6-5f18f0c54a00",
   "metadata": {},
   "source": [
    "## Fake Data"
   ]
  },
  {
   "cell_type": "code",
   "execution_count": null,
   "id": "b1f2120f-24c1-4539-af57-11e88015d06e",
   "metadata": {},
   "outputs": [],
   "source": [
    "N = 512\n",
    "\n",
    "x = torch.linspace(-3, 3, N)\n",
    "# y = 4 * x + 0.1\n",
    "y = torch.sin(x)\n",
    "\n",
    "x = x.unsqueeze(1)\n",
    "\n",
    "x.shape, y.shape"
   ]
  },
  {
   "cell_type": "code",
   "execution_count": null,
   "id": "c5680fcd-529b-41a9-8819-3f74b13cfe34",
   "metadata": {},
   "outputs": [],
   "source": [
    "plt.scatter(x, y)"
   ]
  },
  {
   "cell_type": "markdown",
   "id": "78caa4d3-fff0-4413-8ae0-f68c3a19bbbe",
   "metadata": {},
   "source": [
    "## Linear Model"
   ]
  },
  {
   "cell_type": "code",
   "execution_count": null,
   "id": "e5da4975-3ab0-4256-a15b-a6fac358f38a",
   "metadata": {},
   "outputs": [],
   "source": [
    "# model = torch.nn.Linear(in_features=1, out_features=1)\n",
    "\n",
    "class NeuralNetwork(torch.nn.Module):\n",
    "    def __init__(self, nx, nh, ny):\n",
    "        super().__init__()\n",
    "\n",
    "        # Hidden layer\n",
    "        self.linear1 = torch.nn.Linear(in_features=nx, out_features=nh)\n",
    "        self.sigmoid = torch.nn.ReLU()\n",
    "\n",
    "        # Output layer\n",
    "        self.linear2 = torch.nn.Linear(in_features=nh, out_features=ny)\n",
    "\n",
    "    def forward(self, x):\n",
    "        x = self.linear1(x)\n",
    "        x = self.sigmoid(x)\n",
    "        x = self.linear2(x)\n",
    "        return x\n",
    "\n",
    "\n",
    "nx = 1\n",
    "ny = 1\n",
    "nh = 32\n",
    "model = NeuralNetwork(nx, nh, ny)"
   ]
  },
  {
   "cell_type": "markdown",
   "id": "acede930-9c5c-469b-b0cc-ff70629d76fa",
   "metadata": {},
   "source": [
    "## Test Initial Model"
   ]
  },
  {
   "cell_type": "code",
   "execution_count": null,
   "id": "66dc2909-36f3-4e44-8850-07b44a1f1d50",
   "metadata": {},
   "outputs": [],
   "source": [
    "yhat = model(x)"
   ]
  },
  {
   "cell_type": "code",
   "execution_count": null,
   "id": "d19ee7f6-7700-4f3b-82a4-7c1549e398ef",
   "metadata": {},
   "outputs": [],
   "source": [
    "plt.scatter(x, y, label=\"y\")\n",
    "plt.scatter(x, yhat.detach().numpy(), label=\"yhat\")\n",
    "plt.legend();"
   ]
  },
  {
   "cell_type": "markdown",
   "id": "6fa19987-3a91-4f28-a4b2-3e15f3387ab3",
   "metadata": {},
   "source": [
    "## Train Model"
   ]
  },
  {
   "cell_type": "code",
   "execution_count": null,
   "id": "98099f96-f4d9-4604-a64f-9cda37a73a47",
   "metadata": {},
   "outputs": [],
   "source": [
    "# model = torch.nn.Linear(in_features=1, out_features=1)\n",
    "\n",
    "learning_rate = 0.01\n",
    "num_epochs = 1000\n",
    "loss_fn = torch.nn.MSELoss()\n",
    "\n",
    "losses = []\n",
    "\n",
    "for epoch in range(num_epochs):\n",
    "\n",
    "    yhat = model(x)\n",
    "\n",
    "    loss = loss_fn(y.unsqueeze(1), yhat)\n",
    "    losses.append(loss.detach())\n",
    "\n",
    "    model.zero_grad()\n",
    "    loss.backward()\n",
    "\n",
    "    with torch.no_grad():\n",
    "        for param in model.parameters():\n",
    "            # print(param.shape)\n",
    "            param -= learning_rate * param.grad"
   ]
  },
  {
   "cell_type": "code",
   "execution_count": null,
   "id": "37774446-0888-471f-b6ce-8f5e74fc5bcb",
   "metadata": {},
   "outputs": [],
   "source": [
    "plt.plot(losses);"
   ]
  },
  {
   "cell_type": "code",
   "execution_count": null,
   "id": "57d01ee3-c6a2-4e2a-b4f5-a7a86b2bd813",
   "metadata": {},
   "outputs": [],
   "source": [
    "plt.scatter(x, y, label=\"y\")\n",
    "plt.scatter(x, yhat.detach().numpy(), label=\"yhat\")\n",
    "plt.legend();"
   ]
  },
  {
   "cell_type": "code",
   "execution_count": null,
   "id": "1244d186-d5aa-44f6-82b7-1d26d34f3499",
   "metadata": {},
   "outputs": [],
   "source": [
    "list(model.parameters())"
   ]
  },
  {
   "cell_type": "code",
   "execution_count": null,
   "id": "b41c2061-08d5-465d-81b6-ba38f58241eb",
   "metadata": {},
   "outputs": [],
   "source": []
  }
 ],
 "metadata": {
  "kernelspec": {
   "display_name": "Python3 (cs152)",
   "language": "python",
   "name": "cs152"
  },
  "language_info": {
   "codemirror_mode": {
    "name": "ipython",
    "version": 3
   },
   "file_extension": ".py",
   "mimetype": "text/x-python",
   "name": "python",
   "nbconvert_exporter": "python",
   "pygments_lexer": "ipython3",
   "version": "3.12.9"
  }
 },
 "nbformat": 4,
 "nbformat_minor": 5
}
