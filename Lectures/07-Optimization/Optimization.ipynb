{
 "cells": [
  {
   "cell_type": "code",
   "execution_count": null,
   "id": "e87264b4",
   "metadata": {},
   "outputs": [],
   "source": [
    "# Uncomment this line when running in a browser\n",
    "# %matplotlib notebook"
   ]
  },
  {
   "cell_type": "code",
   "execution_count": null,
   "id": "bd90cd69",
   "metadata": {},
   "outputs": [],
   "source": [
    "import torch\n",
    "\n",
    "from matplotlib import pyplot as plt\n",
    "from jupyterthemes import jtplot\n",
    "from matplotlib.animation import FuncAnimation\n",
    "from IPython.display import HTML\n",
    "\n",
    "from functools import partial\n",
    "\n",
    "jtplot.style(context=\"talk\")"
   ]
  },
  {
   "cell_type": "code",
   "execution_count": null,
   "id": "bdd61034",
   "metadata": {},
   "outputs": [],
   "source": [
    "def loss_landscape_function(X, size):\n",
    "    \"\"\"Generate a pretty loss landscape.\"\"\"\n",
    "\n",
    "    # Portion below x-y plane (l < 0)\n",
    "    l1 = size * torch.exp(-(X ** 2).sum(dim=1) / 2) / (2 * torch.pi)\n",
    "\n",
    "    # Portion above x-y plane (l > 0)\n",
    "    shift = torch.tensor([1.5, 0.5])\n",
    "    l2 = size * torch.exp(-(((X - 1) / shift) ** 2).sum(dim=1) / 2) / (1.5 * torch.pi)\n",
    "\n",
    "    return 1.5 * (l2 - l1)\n",
    "\n",
    "\n",
    "def loss_landscape_plot_data(size, step=0.1):\n",
    "    \"\"\"Generate data for plotting the loss landscape as a surface.\"\"\"\n",
    "    # Generate grid of points\n",
    "    x1 = x2 = torch.arange(-size, size, step)\n",
    "    X1, X2 = torch.meshgrid(x1, x2, indexing=\"ij\")\n",
    "    X = torch.stack([X1.reshape(-1), X2.reshape(-1)], dim=1)\n",
    "\n",
    "    # Compute loss landscape\n",
    "    L = loss_landscape_function(X, size).reshape_as(X1)\n",
    "    return X1, X2, L\n",
    "\n",
    "\n",
    "def plot_loss_landscape(size, ax=None, step=0.1):\n",
    "    \"\"\"Plot the loss landscape as surface and contour plots.\"\"\"\n",
    "\n",
    "    if ax == None:\n",
    "        fig = plt.figure(figsize=(8, 8))\n",
    "        ax = fig.add_subplot(projection=\"3d\")\n",
    "\n",
    "    X1, X2, L = loss_landscape_plot_data(size, step)\n",
    "    ax.contourf(X1, X2, L, zdir=\"z\", offset=-1, zorder=2)\n",
    "    ax.plot_surface(X1, X2, L, zorder=1)\n",
    "    \n",
    "\n",
    "    ax.set_xlim(-4, 4)\n",
    "    ax.set_ylim(-4, 4)\n",
    "    ax.set_zlim(-1, 1)\n",
    "\n",
    "    ax.set_xticklabels([])\n",
    "    ax.set_yticklabels([])\n",
    "    ax.set_zticklabels([])\n",
    "\n",
    "    ax.set_xlabel(\"Parameter 1\")\n",
    "    ax.set_ylabel(\"Parameter 2\")\n",
    "    ax.set_zlabel(\"Loss\")"
   ]
  },
  {
   "cell_type": "code",
   "execution_count": null,
   "id": "0a798f21",
   "metadata": {},
   "outputs": [],
   "source": [
    "plot_loss_landscape(3)"
   ]
  },
  {
   "cell_type": "code",
   "execution_count": null,
   "id": "be5e8f63",
   "metadata": {},
   "outputs": [],
   "source": [
    "def train(size, opt_func, learning_rate, num_epochs=100):\n",
    "\n",
    "    # Parameters (ensuring all runs start at 1.5, 1.0)\n",
    "    W = torch.tensor([[1.5, 1.0]], requires_grad=True)\n",
    "    optimizer = opt_func([W], lr=learning_rate)\n",
    "\n",
    "    w1 = []\n",
    "    w2 = []\n",
    "    ls = []\n",
    "\n",
    "    for _ in range(num_epochs):\n",
    "        # Compute loss\n",
    "        loss = loss_landscape_function(W, size)\n",
    "\n",
    "        # Save parameters and loss for plots\n",
    "        w1.append(W[0][0].item())\n",
    "        w2.append(W[0][1].item())\n",
    "\n",
    "        # Shift loss just above surface for visibility\n",
    "        ls.append(loss.item() + 0.05)\n",
    "\n",
    "        # Update parameters\n",
    "        optimizer.zero_grad()\n",
    "        loss.backward()\n",
    "        optimizer.step()\n",
    "\n",
    "    return w1, w2, ls\n",
    "\n",
    "\n",
    "lrs = [0.01, 0.1]\n",
    "\n",
    "opt_funcs = {\n",
    "    \"SGD\": torch.optim.SGD,\n",
    "    \"SGD+Momentum\": partial(torch.optim.SGD, momentum=0.9),\n",
    "    \"RMSProp\": torch.optim.RMSprop,\n",
    "    \"Adam\": torch.optim.Adam,\n",
    "}\n",
    "\n",
    "# Size/scale of the loss landscape\n",
    "size = 3\n",
    "\n",
    "# Train parameters using each optimizer configuration\n",
    "results = {}\n",
    "for lr in lrs:\n",
    "    for opt in opt_funcs:\n",
    "        results[f\"lr={lr}, {opt}\"] = train(size, opt_funcs[opt], lr)"
   ]
  },
  {
   "cell_type": "code",
   "execution_count": null,
   "id": "476d9d7c",
   "metadata": {},
   "outputs": [],
   "source": [
    "fig = plt.figure(figsize=(16, 8))\n",
    "\n",
    "ax_3d = fig.add_subplot(1, 2, 1, projection=\"3d\")\n",
    "plot_loss_landscape(size, ax_3d)\n",
    "\n",
    "ax_2d = fig.add_subplot(1, 2, 2)\n",
    "X1, X2, L = loss_landscape_plot_data(size)\n",
    "ax_2d.contourf(X1, X2, L, levels=10)\n",
    "\n",
    "colors = [\"r--\", \"y--\", \"k--\", \"g--\", \"r:\", \"y:\", \"k:\", \"g:\"]\n",
    "\n",
    "for res, color in zip(results, colors):\n",
    "    w1, w2, ls = results[res]\n",
    "    ax_3d.plot(w1, w2, ls, color, linewidth=3, zorder=11)\n",
    "    ax_2d.plot(w1, w2, color, linewidth=3, label=res)\n",
    "\n",
    "_ = ax_2d.legend(bbox_to_anchor=(1.04, 1), loc=\"upper left\")"
   ]
  },
  {
   "cell_type": "code",
   "execution_count": null,
   "id": "f2402b3d",
   "metadata": {},
   "outputs": [],
   "source": [
    "fig, ax = plt.subplots(figsize=(8, 8))\n",
    "\n",
    "ax.contourf(X1, X2, L, levels=10)\n",
    "\n",
    "lines = []\n",
    "for res, color in zip(results, colors):\n",
    "    lines.append(ax.plot([], [], color, linewidth=3, label=res)[0])\n",
    "\n",
    "ax.legend(loc=\"upper left\")\n",
    "\n",
    "def animate(frame):\n",
    "    for res, line in zip(results, lines):\n",
    "        w1, w2, _ = results[res]\n",
    "        line.set_data(w1[:frame], w2[:frame])\n",
    "    return lines\n",
    "\n",
    "\n",
    "animation = FuncAnimation(fig, animate, len(w1))"
   ]
  },
  {
   "cell_type": "code",
   "execution_count": null,
   "id": "b69ec081",
   "metadata": {},
   "outputs": [],
   "source": [
    "HTML(animation.to_jshtml())"
   ]
  },
  {
   "cell_type": "code",
   "execution_count": null,
   "id": "e0bdee5d",
   "metadata": {
    "scrolled": true
   },
   "outputs": [],
   "source": [
    "num_subplots = len(results)\n",
    "fig, axes = plt.subplots(1, num_subplots, figsize=(16, 4))\n",
    "\n",
    "# Plot the loss landscape as contours and the result line for all subplots\n",
    "lines = []\n",
    "for ax, result, color in zip(axes, results, colors):\n",
    "    ax.contourf(X1, X2, L, levels=10)\n",
    "    label = result.replace(\", \", \"\\n\")\n",
    "    ax.text(0, 1, label, ha=\"left\", va=\"top\", transform=ax.transAxes, fontsize=10, bbox=dict(facecolor='white', alpha=0.5))\n",
    "    lines.append(ax.plot([], [], color, linewidth=3, label=result)[0])\n",
    "\n",
    "def animate(frame):\n",
    "    for ax, result, line in zip(axes, results, lines):\n",
    "        w1, w2, _ = results[result]\n",
    "        line.set_data(w1[:frame], w2[:frame])\n",
    "    return lines\n",
    "\n",
    "\n",
    "animation = FuncAnimation(fig, animate, len(w1))"
   ]
  },
  {
   "cell_type": "code",
   "execution_count": null,
   "id": "e55c5954",
   "metadata": {},
   "outputs": [],
   "source": [
    "HTML(animation.to_jshtml())"
   ]
  }
 ],
 "metadata": {
  "jupytext": {
   "formats": "ipynb,py:percent"
  },
  "kernelspec": {
   "display_name": "Python3 (cs152)",
   "language": "python",
   "name": "cs152"
  },
  "language_info": {
   "codemirror_mode": {
    "name": "ipython",
    "version": 3
   },
   "file_extension": ".py",
   "mimetype": "text/x-python",
   "name": "python",
   "nbconvert_exporter": "python",
   "pygments_lexer": "ipython3",
   "version": "3.12.9"
  },
  "toc": {
   "base_numbering": 1,
   "nav_menu": {},
   "number_sections": true,
   "sideBar": true,
   "skip_h1_title": true,
   "title_cell": "Table of Contents",
   "title_sidebar": "Contents",
   "toc_cell": true,
   "toc_position": {},
   "toc_section_display": true,
   "toc_window_display": false
  },
  "vscode": {
   "interpreter": {
    "hash": "434e3f2d58e1385e0adb0e032cbe799909e99708e62ae45506af3a1338bb2ba8"
   }
  }
 },
 "nbformat": 4,
 "nbformat_minor": 5
}
