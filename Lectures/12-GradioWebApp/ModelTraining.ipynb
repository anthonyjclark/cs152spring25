{
 "cells": [
  {
   "cell_type": "code",
   "execution_count": null,
   "id": "2daea063",
   "metadata": {},
   "outputs": [],
   "source": [
    "from fastai.vision.all import *\n",
    "from torchsummary import summary"
   ]
  },
  {
   "cell_type": "code",
   "execution_count": null,
   "id": "1a117bb3",
   "metadata": {},
   "outputs": [],
   "source": [
    "# Using device 2 to avoid other users on the server\n",
    "torch.cuda.set_device(0)\n",
    "default_device()"
   ]
  },
  {
   "cell_type": "markdown",
   "id": "2af4310b",
   "metadata": {},
   "source": [
    "# Data Processing\n",
    "\n",
    "1. Copy files from local box folder to the server (and convert HEIC)\n",
    "\n",
    "```bash\n",
    "# From local machine\n",
    "mogrify -monitor -format jpg FrankOrFrary/**/*.HEIC\n",
    "find FrankOrFrary -name \"*.HEIC\" -print0 | xargs -0 rm -rf\n",
    "rsync -aivP FrankOrFrary dgx01:/data/cs152/\n",
    "```\n",
    "\n",
    "2. Convert file types (e.g., HEIC)\n",
    "\n",
    "```bash\n",
    "!/usr/bin/env bash\n",
    "\n",
    "# Set options for recurisve glob\n",
    "shopt -s globstar nullglob\n",
    "\n",
    "RAW_DATASET_PATH=/data/cs152/FrankOrFrary/raw\n",
    "PROCESSED_DATASET_PATH=/data/cs152/FrankOrFrary/processed\n",
    "\n",
    "find $RAW_DATASET_PATH -name \".DS_Store\" -type f -delete\n",
    "\n",
    "# Loop over all images in the raw dataset\n",
    "for image_to_convert in \"$RAW_DATASET_PATH\"/**/*; do\n",
    "    # Skip directories\n",
    "    if [[ -d \"$image_to_convert\" ]]; then continue; fi\n",
    "\n",
    "    # Get the file name and replace extension with jpg\n",
    "    image_name=$(basename \"$image_to_convert\")\n",
    "    image_name=\"${image_name%.*}.jpg\"\n",
    "\n",
    "    # Ensure the output directory exists\n",
    "    parent_name=$(basename \"$(dirname \"$image_to_convert\")\")\n",
    "    mkdir -p \"$PROCESSED_DATASET_PATH\"/\"$parent_name\"\n",
    "\n",
    "    # Create the new image name\n",
    "    image_name=\"$PROCESSED_DATASET_PATH\"/\"$parent_name\"/\"$image_name\"\n",
    "\n",
    "    # Create the new image if it doesn't exist\n",
    "    if [[ -f \"$image_name\" ]]; then\n",
    "        echo \"$image_name\" already exists\n",
    "    else\n",
    "        echo \"Creating $image_name\"\n",
    "        convert \"$image_to_convert\" -strip -thumbnail '1000>' -format jpg \"$image_name\"\n",
    "    fi\n",
    "done\n",
    "\n",
    "```\n",
    "\n",
    "\n",
    "Some issues:\n",
    "\n",
    "```text\n",
    "convert: Invalid SOS parameters for sequential JPEG `/data/cs152/FrankOrFrary/raw/Frary/Alan-Frary-15.jpg' @ warning/jpeg.c/JPEGWarningHandler/403.\n",
    "\n",
    "convert: no decode delegate for this image format `HEIC' @ error/constitute.c/ReadImage/746.\n",
    "convert: no images defined `/data/cs152/FrankOrFrary/processed/Frary/Aldo-frary-03.jpg' @ error/convert.c/ConvertImageCommand/3342.\n",
    "```"
   ]
  },
  {
   "cell_type": "code",
   "execution_count": null,
   "id": "3600bf57",
   "metadata": {},
   "outputs": [],
   "source": [
    "path = Path(\"./CampusBuildingsProcessed\")\n",
    "path.ls()"
   ]
  },
  {
   "cell_type": "code",
   "execution_count": null,
   "id": "16bd7015",
   "metadata": {},
   "outputs": [],
   "source": [
    "dls = ImageDataLoaders.from_folder(path, valid_pct=0.2, item_tfms=Resize(224), num_workers=16)\n",
    "dls.show_batch()\n",
    "# file <filename> on invalid files"
   ]
  },
  {
   "cell_type": "code",
   "execution_count": null,
   "id": "2f797955",
   "metadata": {},
   "outputs": [],
   "source": [
    "print(\"Dataset classes:\", dls.vocab)\n",
    "print(\"Validation dataset size:\", len(dls.valid_ds))\n",
    "print(\"Training dataset size:\", len(dls.train_ds))"
   ]
  },
  {
   "cell_type": "code",
   "execution_count": null,
   "id": "28a44ee8",
   "metadata": {},
   "outputs": [],
   "source": [
    "learn = vision_learner(dls, resnet34, metrics=accuracy)\n",
    "summary(learn.model);"
   ]
  },
  {
   "cell_type": "code",
   "execution_count": null,
   "id": "239074c6",
   "metadata": {},
   "outputs": [],
   "source": [
    "learn.lr_find()"
   ]
  },
  {
   "cell_type": "code",
   "execution_count": null,
   "id": "1ed7c3d8",
   "metadata": {},
   "outputs": [],
   "source": [
    "learn.fine_tune(4, 5e-3)"
   ]
  },
  {
   "cell_type": "code",
   "execution_count": null,
   "id": "739dfd20",
   "metadata": {},
   "outputs": [],
   "source": [
    "learn.show_results()"
   ]
  },
  {
   "cell_type": "code",
   "execution_count": null,
   "id": "4cd3009d",
   "metadata": {},
   "outputs": [],
   "source": [
    "# interp = Interpretation.from_learner(learn)\n",
    "interp = ClassificationInterpretation.from_learner(learn)"
   ]
  },
  {
   "cell_type": "code",
   "execution_count": null,
   "id": "849f3951",
   "metadata": {},
   "outputs": [],
   "source": [
    "interp.plot_top_losses(9, figsize=(10, 10))"
   ]
  },
  {
   "cell_type": "code",
   "execution_count": null,
   "id": "8c5a8e3a",
   "metadata": {},
   "outputs": [],
   "source": [
    "interp.plot_confusion_matrix(figsize=(10, 10))"
   ]
  },
  {
   "cell_type": "code",
   "execution_count": null,
   "id": "4c2b1a74",
   "metadata": {},
   "outputs": [],
   "source": [
    "learn.export(\"./CampusClassifier.pkl\")"
   ]
  },
  {
   "cell_type": "code",
   "execution_count": null,
   "id": "2ce916da",
   "metadata": {},
   "outputs": [],
   "source": [
    "!mv ./CampusBuildingsProcessed/CampusClassifier.pkl ."
   ]
  },
  {
   "cell_type": "code",
   "execution_count": null,
   "id": "0c9b225d",
   "metadata": {},
   "outputs": [],
   "source": [
    "!ls"
   ]
  },
  {
   "cell_type": "code",
   "execution_count": null,
   "id": "83c9d9d5",
   "metadata": {},
   "outputs": [],
   "source": []
  }
 ],
 "metadata": {
  "jupytext": {
   "formats": "ipynb,py:percent"
  },
  "kernelspec": {
   "display_name": "Python3 (cs152)",
   "language": "python",
   "name": "cs152"
  },
  "language_info": {
   "codemirror_mode": {
    "name": "ipython",
    "version": 3
   },
   "file_extension": ".py",
   "mimetype": "text/x-python",
   "name": "python",
   "nbconvert_exporter": "python",
   "pygments_lexer": "ipython3",
   "version": "3.12.9"
  }
 },
 "nbformat": 4,
 "nbformat_minor": 5
}
