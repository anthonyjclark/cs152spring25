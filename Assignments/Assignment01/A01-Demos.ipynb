{
 "cells": [
  {
   "cell_type": "code",
   "execution_count": null,
   "id": "d56e9ac0-1234-4cde-8083-b8a9528c4b03",
   "metadata": {},
   "outputs": [],
   "source": [
    "from transformers import pipeline\n",
    "from diffusers import DiffusionPipeline\n",
    "\n",
    "from matplotlib import pyplot as plt\n",
    "from matplotlib.patches import Rectangle\n",
    "\n",
    "from PIL import Image\n",
    "\n",
    "from urllib.request import urlopen"
   ]
  },
  {
   "cell_type": "markdown",
   "id": "5b81ec1d-ed33-4031-9b0d-3c9e0d7bdb06",
   "metadata": {},
   "source": [
    "# Text Classification"
   ]
  },
  {
   "cell_type": "code",
   "execution_count": null,
   "id": "3ed36cb1-ca8d-44c5-8af8-d14855b41af3",
   "metadata": {},
   "outputs": [],
   "source": [
    "text_classifier = pipeline(\"sentiment-analysis\")\n",
    "text_classifier(\"Enter some text here and see how the output changes.\")"
   ]
  },
  {
   "cell_type": "markdown",
   "id": "439e30a4-253f-4c12-a448-728da05395c4",
   "metadata": {},
   "source": [
    "# Text Generation"
   ]
  },
  {
   "cell_type": "code",
   "execution_count": null,
   "id": "01161e51-7dda-4191-8335-34f87151bb2d",
   "metadata": {},
   "outputs": [],
   "source": [
    "text_generator = pipeline(\"text-generation\")\n",
    "text_generator(\"Three Rings for the Elven-kings under the sky, Seven for the Dwarf-lords in their halls of stone\")"
   ]
  },
  {
   "cell_type": "markdown",
   "id": "04173738-9d11-4e8c-8bbe-2690d57b3aaf",
   "metadata": {},
   "source": [
    "# Text Fill"
   ]
  },
  {
   "cell_type": "code",
   "execution_count": null,
   "id": "6f7f6a0c-0d6b-462c-9fcf-8e8d13127952",
   "metadata": {},
   "outputs": [],
   "source": [
    "text_unmasker = pipeline(\"fill-mask\")\n",
    "text_unmasker(f\"In CS152 Neural {text_unmasker.tokenizer.mask_token} we will learn about deep learning.\")"
   ]
  },
  {
   "cell_type": "markdown",
   "id": "308e04ad-dfd5-4e82-b6d5-59a285b9d449",
   "metadata": {},
   "source": [
    "# Text Translation (Machine Translation)"
   ]
  },
  {
   "cell_type": "code",
   "execution_count": null,
   "id": "06361261-ecad-4b12-a859-7710d9feae43",
   "metadata": {},
   "outputs": [],
   "source": [
    "text_translator = pipeline(\"translation_en_to_fr\")\n",
    "text_translator(\"I really like to learn about computer science!\")"
   ]
  },
  {
   "cell_type": "markdown",
   "id": "da52f6cc-ccb8-41e1-ba11-d07792ac2d87",
   "metadata": {},
   "source": [
    "# Text Question Answering"
   ]
  },
  {
   "cell_type": "code",
   "execution_count": null,
   "id": "859830d7-f670-47b1-b8d6-baf9a56e7e5f",
   "metadata": {},
   "outputs": [],
   "source": [
    "text_question_answer = pipeline(model=\"deepset/roberta-base-squad2\")\n",
    "text_question_answer(question=\"What is my occupation?\", context=\"I live in California and I teach CS.\")"
   ]
  },
  {
   "cell_type": "markdown",
   "id": "ceeacd77-610a-48de-a5da-2cdc6015c282",
   "metadata": {},
   "source": [
    "# Image Classification "
   ]
  },
  {
   "cell_type": "code",
   "execution_count": null,
   "id": "44d3403f-5e51-4ede-878a-4860b3eaa9ff",
   "metadata": {},
   "outputs": [],
   "source": [
    "image_classifier = pipeline(task=\"image-classification\")\n",
    "image_classifier(images=\"https://huggingface.co/datasets/huggingface/documentation-images/resolve/main/pipeline-cat-chonk.jpeg\")"
   ]
  },
  {
   "cell_type": "markdown",
   "id": "5fab0c9b-5458-4b55-a862-a8cec14f8247",
   "metadata": {},
   "source": [
    "# Image Segmentation"
   ]
  },
  {
   "cell_type": "code",
   "execution_count": null,
   "id": "80334772-b56c-4be7-aab8-596e51b1b69f",
   "metadata": {},
   "outputs": [],
   "source": [
    "image_url = \"https://huggingface.co/datasets/Narsil/image_dummy/raw/main/parrots.png\"\n",
    "\n",
    "image_segmenter = pipeline(model=\"facebook/detr-resnet-50-panoptic\")\n",
    "segments = image_segmenter(image_url)\n",
    "\n",
    "num_axes = len(segments) + 1\n",
    "_, axes = plt.subplots(1, num_axes)\n",
    "axes[0].imshow(Image.open(urlopen(image_url)))\n",
    "\n",
    "for ax, seg in zip(axes[1:], segments):\n",
    "    ax.imshow(seg[\"mask\"])\n",
    "    ax.set_title(seg[\"label\"])"
   ]
  },
  {
   "cell_type": "markdown",
   "id": "58f8e41c-9e44-4f89-a991-f86dec7205ce",
   "metadata": {},
   "source": [
    "# Image Object Detection"
   ]
  },
  {
   "cell_type": "code",
   "execution_count": null,
   "id": "a4c22d46-6207-4d88-bba0-834dec912f80",
   "metadata": {},
   "outputs": [],
   "source": [
    "image_detector = pipeline(\"object-detection\")\n",
    "id_in = (\n",
    "    \"https://storage.googleapis.com/petbacker/images/blog/2017/dog-and-cat-cover.jpg\"\n",
    ")\n",
    "id_out = image_detector(id_in)\n",
    "\n",
    "img = Image.open(urlopen(id_in))\n",
    "plt.imshow(img)\n",
    "\n",
    "for out in id_out:\n",
    "    x, y = out[\"box\"][\"xmin\"], out[\"box\"][\"ymin\"]\n",
    "    width = out[\"box\"][\"xmax\"] - out[\"box\"][\"xmin\"]\n",
    "    height = out[\"box\"][\"ymax\"] - out[\"box\"][\"ymin\"]\n",
    "    plt.gca().add_patch(\n",
    "        Rectangle((x, y), width, height, linewidth=1, edgecolor=\"r\", facecolor=\"none\")\n",
    "    )\n",
    "    plt.text(x, y + 20, f\"{out['label']} ({out['score']:.2f})\")"
   ]
  },
  {
   "cell_type": "markdown",
   "id": "8550530b-bf36-4090-ba0a-e836b0e24c95",
   "metadata": {},
   "source": [
    "# Image Captioning"
   ]
  },
  {
   "cell_type": "code",
   "execution_count": null,
   "id": "1d0e4647-9a9b-4362-af8e-e73d0e57a6f0",
   "metadata": {},
   "outputs": [],
   "source": [
    "image_url = \"https://huggingface.co/datasets/Narsil/image_dummy/raw/main/parrots.png\"\n",
    "\n",
    "image_captioner = pipeline(task=\"image-to-text\")\n",
    "image_captioner(image_url)"
   ]
  },
  {
   "cell_type": "markdown",
   "id": "9f668a8f-14f2-4a4c-9d87-e04e76b01862",
   "metadata": {},
   "source": [
    "# Image Question Answering"
   ]
  },
  {
   "cell_type": "code",
   "execution_count": null,
   "id": "eb6a90cf-9742-4fa1-9bdf-f093faa46acf",
   "metadata": {},
   "outputs": [],
   "source": [
    "image_answerer = pipeline(task=\"vqa\")\n",
    "image_answerer(\n",
    "    image=\"https://huggingface.co/datasets/huggingface/documentation-images/resolve/main/pipeline-cat-chonk.jpeg\",\n",
    "    question=\"Where is the cat?\"\n",
    ")"
   ]
  },
  {
   "cell_type": "markdown",
   "id": "66723860-05fb-4bf4-bfa3-6e03807e3b7d",
   "metadata": {},
   "source": [
    "# Image Generation\n",
    "\n",
    "This demo is currently broken due to version issues on the server. You can run it, but don't expect it to work..."
   ]
  },
  {
   "cell_type": "code",
   "execution_count": null,
   "id": "3ef1200e-7bc7-4b4b-9293-b9420e071688",
   "metadata": {},
   "outputs": [],
   "source": [
    "pipeline = DiffusionPipeline.from_pretrained(\"stable-diffusion-v1-5/stable-diffusion-v1-5\", use_safetensors=True)\n",
    "pipeline.to(\"cuda\")\n",
    "pipeline(\"An image of a squirrel in Picasso style\").images[0]"
   ]
  },
  {
   "cell_type": "markdown",
   "id": "e5d43aba-fef2-44ba-ac73-3b5620b73035",
   "metadata": {},
   "source": [
    "# Your Chosen Pipline\n",
    "\n",
    "You should find another pipeline to run."
   ]
  },
  {
   "cell_type": "code",
   "execution_count": null,
   "id": "3cfbc21b-5fed-4c57-aa88-89933d4076b5",
   "metadata": {},
   "outputs": [],
   "source": []
  }
 ],
 "metadata": {
  "kernelspec": {
   "display_name": "Python3 (cs152)",
   "language": "python",
   "name": "cs152"
  },
  "language_info": {
   "codemirror_mode": {
    "name": "ipython",
    "version": 3
   },
   "file_extension": ".py",
   "mimetype": "text/x-python",
   "name": "python",
   "nbconvert_exporter": "python",
   "pygments_lexer": "ipython3",
   "version": "3.12.3"
  }
 },
 "nbformat": 4,
 "nbformat_minor": 5
}
